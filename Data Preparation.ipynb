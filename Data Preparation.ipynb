{
 "cells": [
  {
   "cell_type": "code",
   "execution_count": 1,
   "metadata": {},
   "outputs": [],
   "source": [
    "import os\n",
    "import shutil\n",
    "import glob\n",
    "from tqdm import tqdm"
   ]
  },
  {
   "cell_type": "markdown",
   "metadata": {},
   "source": [
    "#\n",
    "subject ID:\n",
    "xxx\n",
    "\n",
    "image number:\n",
    "xxx\n",
    "\n",
    "gender:\n",
    "0 - male\n",
    "1 - famale\n",
    "\n",
    "glasses:\n",
    "0 - no\n",
    "1 - yes\n",
    "\n",
    "eye state:\n",
    "0 - close\n",
    "1 - open\n",
    "\n",
    "reflections:\n",
    "0 - none\n",
    "1 - low\n",
    "2 - high\n",
    "\n",
    "lighting conditions/image quality:\n",
    "0 - bad\n",
    "1 - good\n",
    "\n",
    "sensor type:\n",
    "01 - RealSense SR300 640x480\n",
    "02 - IDS Imaging, 1280x1024\n",
    "03 - Aptina Imagin 752x480\n",
    "\n",
    "example:\n",
    "s001_00123_0_0_0_0_0_01.png"
   ]
  },
  {
   "cell_type": "code",
   "execution_count": 2,
   "metadata": {},
   "outputs": [
    {
     "name": "stderr",
     "output_type": "stream",
     "text": [
      "0it [00:00, ?it/s]\n",
      "0it [00:00, ?it/s]\n",
      "0it [00:00, ?it/s]\n",
      "0it [00:00, ?it/s]\n",
      "0it [00:00, ?it/s]\n",
      "100%|██████████| 3242/3242 [00:28<00:00, 113.41it/s]\n",
      "100%|██████████| 1114/1114 [00:12<00:00, 90.91it/s]\n",
      "100%|██████████| 679/679 [00:09<00:00, 69.98it/s]\n",
      "100%|██████████| 1069/1069 [00:15<00:00, 69.83it/s]\n",
      "100%|██████████| 736/736 [00:09<00:00, 76.64it/s]\n",
      "100%|██████████| 1012/1012 [00:13<00:00, 75.50it/s]\n",
      "100%|██████████| 624/624 [00:08<00:00, 73.14it/s]\n",
      "100%|██████████| 832/832 [00:10<00:00, 76.58it/s]\n",
      "100%|██████████| 387/387 [00:05<00:00, 71.34it/s]\n",
      "100%|██████████| 399/399 [00:05<00:00, 69.30it/s]\n",
      "100%|██████████| 1648/1648 [00:23<00:00, 68.80it/s]\n",
      "100%|██████████| 8728/8728 [02:20<00:00, 62.13it/s]\n",
      "100%|██████████| 3605/3605 [00:59<00:00, 61.01it/s]\n",
      "100%|██████████| 8884/8884 [03:38<00:00, 40.73it/s]  \n",
      "100%|██████████| 1132/1132 [00:18<00:00, 60.63it/s] \n",
      "100%|██████████| 1889/1889 [00:30<00:00, 61.83it/s]\n",
      "100%|██████████| 1648/1648 [00:26<00:00, 63.27it/s]\n",
      "100%|██████████| 4410/4410 [01:17<00:00, 56.85it/s]\n",
      "100%|██████████| 6175/6175 [01:55<00:00, 53.62it/s]\n",
      "100%|██████████| 704/704 [00:13<00:00, 51.19it/s]\n",
      "100%|██████████| 987/987 [00:18<00:00, 52.09it/s]\n",
      "100%|██████████| 382/382 [00:06<00:00, 54.66it/s]\n",
      "100%|██████████| 522/522 [00:09<00:00, 52.79it/s]\n",
      "100%|██████████| 752/752 [00:14<00:00, 53.21it/s]\n",
      "100%|██████████| 1502/1502 [00:28<00:00, 52.75it/s]\n",
      "100%|██████████| 1246/1246 [00:20<00:00, 60.14it/s]\n",
      "100%|██████████| 665/665 [00:10<00:00, 61.07it/s]\n",
      "100%|██████████| 736/736 [00:13<00:00, 53.20it/s]\n",
      "100%|██████████| 1393/1393 [00:26<00:00, 53.54it/s]\n",
      "100%|██████████| 1384/1384 [00:27<00:00, 51.01it/s]\n",
      "100%|██████████| 1738/1738 [00:30<00:00, 56.83it/s]\n",
      "100%|██████████| 6162/6162 [01:51<00:00, 55.17it/s]\n",
      "100%|██████████| 681/681 [00:11<00:00, 60.29it/s]\n",
      "100%|██████████| 739/739 [00:12<00:00, 60.85it/s]\n",
      "100%|██████████| 642/642 [00:12<00:00, 50.89it/s]\n",
      "100%|██████████| 6193/6193 [01:48<00:00, 57.02it/s]\n",
      "100%|██████████| 10257/10257 [03:12<00:00, 53.31it/s]\n"
     ]
    }
   ],
   "source": [
    "Raw_DIR= r'C:\\Users\\Kamal\\Downloads\\mrlEyes_2018_01'\n",
    "for dirpath, dirname, filenames in os.walk(Raw_DIR):\n",
    "    for i in tqdm([f for f in filenames if f.endswith('.png')]):\n",
    "        if i.split('_')[4]=='0':\n",
    "            shutil.copy(src=dirpath+'/'+i, dst=r'C:\\Users\\Kamal\\Downloads\\mrlEyes_2018_01\\mrlEyes_2018_01\\Prepared_Data\\Close Eyes')\n",
    "        \n",
    "        elif i.split('_')[4]=='1':\n",
    "            shutil.copy(src=dirpath+'/'+i, dst=r'C:\\Users\\Kamal\\Downloads\\mrlEyes_2018_01\\mrlEyes_2018_01\\Prepared_Data\\Open Eyes')\n"
   ]
  },
  {
   "cell_type": "code",
   "execution_count": null,
   "metadata": {},
   "outputs": [],
   "source": []
  },
  {
   "cell_type": "code",
   "execution_count": null,
   "metadata": {},
   "outputs": [],
   "source": []
  }
 ],
 "metadata": {
  "kernelspec": {
   "display_name": "Python 3",
   "language": "python",
   "name": "python3"
  },
  "language_info": {
   "codemirror_mode": {
    "name": "ipython",
    "version": 3
   },
   "file_extension": ".py",
   "mimetype": "text/x-python",
   "name": "python",
   "nbconvert_exporter": "python",
   "pygments_lexer": "ipython3",
   "version": "3.11.9"
  }
 },
 "nbformat": 4,
 "nbformat_minor": 4
}
